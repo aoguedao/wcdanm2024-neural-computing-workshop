{
 "cells": [
  {
   "cell_type": "markdown",
   "metadata": {},
   "source": [
    "# Neural Networks - Part 1"
   ]
  },
  {
   "cell_type": "markdown",
   "metadata": {},
   "source": [
    "## Motivation"
   ]
  },
  {
   "cell_type": "markdown",
   "metadata": {},
   "source": [
    "Artificial neural networks are models trying to imitate a biological neural network as we can see in the following figure:\n",
    "\n",
    "![Neural Network](../images/neural_networks.png)\n",
    "\n",
    "Neural networks have been became popular in the last decade since the great variety of taks that they can address, not just regression and classification challenges. Another reason is that computer are more powerful that a few decades ago, that implies we can work with more data (not only tabular) and also train more complex models.\n",
    "\n",
    "![NN Cat](../images/cat_nn.png)"
   ]
  },
  {
   "cell_type": "markdown",
   "metadata": {},
   "source": [
    "## Example"
   ]
  },
  {
   "cell_type": "markdown",
   "metadata": {},
   "source": [
    "Consider a set of labeled points, with two categories (0 and 1). The goal is to construct a mapping from $\\mathbb{R}^2$ to $\\{0, 1\\}$."
   ]
  },
  {
   "cell_type": "code",
   "execution_count": 1,
   "metadata": {},
   "outputs": [],
   "source": [
    "import numpy as np\n",
    "import matplotlib.pyplot as plt\n",
    "import seaborn as sns\n",
    "import torch\n",
    "\n",
    "sns.set_theme(style=\"whitegrid\")\n",
    "\n",
    "%matplotlib inline"
   ]
  },
  {
   "cell_type": "code",
   "execution_count": 2,
   "metadata": {},
   "outputs": [],
   "source": [
    "x = torch.tensor(\n",
    "    [\n",
    "        [0.1, 0.1],\n",
    "        [0.3, 0.4],\n",
    "        [0.1, 0.5],\n",
    "        [0.6, 0.9],\n",
    "        [0.4, 0.2],\n",
    "        [0.6, 0.3],\n",
    "        [0.5, 0.6],\n",
    "        [0.9, 0.2],\n",
    "        [0.4, 0.4],\n",
    "        [0.7, 0.6]\n",
    "    ]\n",
    ")\n",
    "y = torch.tensor([1, 1, 1, 1, 1, 0, 0, 0, 0, 0], dtype=torch.float).reshape(-1, 1)"
   ]
  },
  {
   "cell_type": "code",
   "execution_count": 3,
   "metadata": {},
   "outputs": [
    {
     "data": {
      "image/png": "[encoded data removed]",
      "text/plain": [
       "<Figure size 432x288 with 1 Axes>"
      ]
     },
     "metadata": {
      "needs_background": "light"
     },
     "output_type": "display_data"
    }
   ],
   "source": [
    "sns.scatterplot(\n",
    "    x=x.numpy()[:,0],\n",
    "    y=x.numpy()[:,1],\n",
    "    hue=y.numpy().ravel(),\n",
    ")\n",
    "plt.show()"
   ]
  },
  {
   "cell_type": "markdown",
   "metadata": {},
   "source": [
    "The artificial neural network approach uses repeated application of a simple, nonlinear function. We will base our network on the sigmoid function:\n",
    "\n",
    "$$\n",
    "\\sigma(x) = \\frac{1}{1 + e^{-x}}\n",
    "$$\n",
    "\n",
    "We may regard $\\sigma(x)$ as a smoothed version of a step function, which itself mimics the behavior of a neuron in the brain.\n",
    "\n",
    "The steepness and location of the transition in the sigmoid function may be altered by scaling and shifting the argument or, in the language of neural networks, by _weighting_ and _biasing_ the input. Let $a$ be a vector produced by the neurons in one layer, then the vector of outputs from the next layer has the form\n",
    "\n",
    "$$\n",
    "\\sigma \\left( W a + b\\right)\n",
    "$$\n",
    "\n",
    "where $W$ is the matrix of weights and $b$ the vector of $biases$. The number of columns\n",
    "in W matches the number of neurons that produced the vector a at the previous layer. The number of rows in $W$ matches the number of neurons at the current layer. The number of components in $b$ also matches the number of neurons at the current layer."
   ]
  },
  {
   "cell_type": "markdown",
   "metadata": {},
   "source": [
    "Let's consider the following example of an artificial neural network with four layers:\n",
    "\n",
    "![Example NN with four layers](../images/nn_four_layers.png)\n",
    "\n",
    "Since the input data has the form $x \\in \\mathbb{R}^2$, the weights and biases for the second layer may be represented by a matrix $W^{[2]} \\in \\mathbb{R}^{2 \\times 2}$ and a vector $b^{[2]} \\in \\mathbb{R}^2$, respectively. The output from the second layer has the form\n",
    "\n",
    "$$\n",
    "a^{[2]} = \\sigma \\left( W^{[2]} x + b^{[2]} \\right) \\in \\mathbb{R}^2\n",
    "$$\n",
    "\n",
    "The third layer has three neurons, then $W^{[3]} \\in \\mathbb{R}^{3 \\times 2}$, $b^{[2]} \\in \\mathbb{R}^3$ and the output from the third layer is\n",
    "\n",
    "$$\n",
    "a^{[3]} = \\sigma \\left( W^{[3]} a^{[2]} + b^{[3]} \\right) =  \\sigma\\left(  W^{[3]} \\sigma \\left( W^{[2]} x + b^{[2]} \\right)  + b^{[3]} \\right)\\in \\mathbb{R}^3\n",
    "$$\n",
    "\n",
    "Finally, for the fourth (output) layer $W^{[4]} \\in \\mathbb{R}^{2 \\times 3}$ and $b^{[4]} \\in \\mathbb{R}^2$. The output of the overall network has the form\n",
    "\n",
    "$$\n",
    "\\begin{aligned}\n",
    "F(x)\n",
    "&= \\sigma \\left( W^{[4]} a^{[3]} + b^{[4]} \\right) \\\\\n",
    "&= \\sigma \\left( W^{[4]} \\sigma \\left( W^{[3]} a^{[2]} + b^{[3]} \\right)  + b^{[4]} \\right) \\\\\n",
    "&= \\sigma \\left( W^{[4]} \\sigma \\left( W^{[3]} \\sigma \\left( W^{[2]} x + b^{[2]} \\right) + b^{[3]} \\right)  + b^{[4]} \\right) \\in \\mathbb{R}^2\n",
    "\\end{aligned}\n",
    "$$\n",
    "\n",
    "Note that the input layer has to have two neurons since we are only working with a input with two features and the output layer also has two neurons but in this case is because there are only two categories.\n"
   ]
  },
  {
   "cell_type": "code",
   "execution_count": 4,
   "metadata": {},
   "outputs": [],
   "source": [
    "model = torch.nn.Sequential(\n",
    "    torch.nn.Linear(2, 2),\n",
    "    torch.nn.Sigmoid(),\n",
    "    torch.nn.Linear(2, 4),\n",
    "    torch.nn.Sigmoid(),\n",
    "    torch.nn.Linear(4, 1),\n",
    "    torch.nn.Sigmoid()\n",
    ")"
   ]
  },
  {
   "cell_type": "markdown",
   "metadata": {},
   "source": [
    "This neural network define a function $F: \\mathbb{R}^2 \\to \\mathbb{R}^2$ in terms of its 23 parameters (entries in the wright matrices and bias vectors). Without loss of generality, we can encode the categories as vectors,\n",
    "\n",
    "$$\n",
    "A : \\begin{pmatrix} 1 \\\\ 0 \\end{pmatrix}\n",
    "\\quad\n",
    "\\text{and}\n",
    "\\quad\n",
    "B : \\begin{pmatrix} 0 \\\\ 1 \\end{pmatrix}\n",
    "$$\n",
    "\n",
    "We need to optimize over the 23 parameters in order to classify the inputs into categories A or B."
   ]
  },
  {
   "cell_type": "code",
   "execution_count": 5,
   "metadata": {},
   "outputs": [],
   "source": [
    "loss_fn = torch.nn.BCELoss()\n",
    "learning_rate = 1e-3\n",
    "optimizer = torch.optim.SGD(model.parameters(), lr=learning_rate)"
   ]
  },
  {
   "cell_type": "markdown",
   "metadata": {},
   "source": [
    "Then we need to trrain our model"
   ]
  },
  {
   "cell_type": "code",
   "execution_count": 6,
   "metadata": {},
   "outputs": [],
   "source": [
    "losses = []\n",
    "for epoch in range(10000):\n",
    "    pred_y = model(x)\n",
    "    loss = loss_fn(pred_y, y)\n",
    "    losses.append(loss.item())\n",
    "\n",
    "    model.zero_grad()\n",
    "    loss.backward()\n",
    "\n",
    "    optimizer.step()"
   ]
  },
  {
   "cell_type": "markdown",
   "metadata": {},
   "source": [
    "And now we can see how the loss function was improving in each epoch (for this case, each epoch is an iteartion)."
   ]
  },
  {
   "cell_type": "code",
   "execution_count": 7,
   "metadata": {},
   "outputs": [
    {
     "data": {
      "image/png": "[encoded data removed]",
      "text/plain": [
       "<Figure size 432x288 with 1 Axes>"
      ]
     },
     "metadata": {
      "needs_background": "light"
     },
     "output_type": "display_data"
    }
   ],
   "source": [
    "plt.plot(losses)\n",
    "plt.ylabel('loss')\n",
    "plt.xlabel('epoch')\n",
    "plt.title(f\"Learning rate {learning_rate}\")\n",
    "plt.show()"
   ]
  },
  {
   "cell_type": "code",
   "execution_count": 8,
   "metadata": {},
   "outputs": [
    {
     "data": {
      "text/plain": [
       "tensor([[0.5000]], grad_fn=<SigmoidBackward0>)"
      ]
     },
     "execution_count": 8,
     "metadata": {},
     "output_type": "execute_result"
    }
   ],
   "source": [
    "model(torch.tensor([[0.7, 0.2]]))"
   ]
  },
  {
   "cell_type": "markdown",
   "metadata": {},
   "source": [
    "Sources:\n",
    "\n",
    "- [Deep Learning: An Introduction for Applied Mathematicians](https://epubs.siam.org/doi/10.1137/18M1165748)"
   ]
  }
 ],
 "metadata": {
  "kernelspec": {
   "display_name": "Python 3.9.13 ('pinn-backup')",
   "language": "python",
   "name": "python3"
  },
  "language_info": {
   "codemirror_mode": {
    "name": "ipython",
    "version": 3
   },
   "file_extension": ".py",
   "mimetype": "text/x-python",
   "name": "python",
   "nbconvert_exporter": "python",
   "pygments_lexer": "ipython3",
   "version": "3.9.13"
  },
  "orig_nbformat": 4,
  "vscode": {
   "interpreter": {
    "hash": "35923595c379b2f8a43fe857c5f1ff97e2ec11b937ce0326cd8f57467725d828"
   }
  }
 },
 "nbformat": 4,
 "nbformat_minor": 2
}
