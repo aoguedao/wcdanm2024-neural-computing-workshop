{
 "cells": [
  {
   "cell_type": "markdown",
   "metadata": {},
   "source": [
    "# Physics-Informed Neural Networks"
   ]
  },
  {
   "cell_type": "markdown",
   "metadata": {},
   "source": [
    "## Motivation"
   ]
  },
  {
   "cell_type": "markdown",
   "metadata": {},
   "source": [
    "For years mathematicians and physicists are trying to model the world with differential equations. However, since the advent of techniques such as machine learning, neural networks and deep learning together with greater computing power, community has speculated that we could learn automatically (algorithms) anything with a enough amount of data. However, it seems this is not really true.\n",
    "\n",
    "Philosophical Question: Could have a _machine_ discovered Newton's laws?"
   ]
  },
  {
   "cell_type": "markdown",
   "metadata": {},
   "source": [
    "#### PINNs"
   ]
  },
  {
   "cell_type": "markdown",
   "metadata": {},
   "source": [
    "In 2019, Raissi, Perdikaris and Karniadakis introduced Physics-Informed Neural Networks (PINNs), neural networks that are trained to solve supervised learning tasks while respecting any given law of physics described by general nonlinear partial differential equations ([source](https://www.sciencedirect.com/science/article/pii/S0021999118307125)). PINNs are nowadays used to solve PDEs, fractional equations, and integral-differential equations."
   ]
  },
  {
   "cell_type": "markdown",
   "metadata": {},
   "source": [
    "__Idea__\n",
    "\n",
    "PINNs approximate PDE solutions by training a neural network to minimize a loss function, including:\n",
    "\n",
    "* Initial and boundary conditions along the space-time domain’s boundary\n",
    "* PDE residual at selected points in the domain.\n",
    "\n",
    "If you want to do a simplified analogy, initial and boundary conditions points will be an usual training dataset, but also it is necessary to embed physical laws (PDE) into the neural network."
   ]
  },
  {
   "cell_type": "markdown",
   "metadata": {},
   "source": [
    "## Setup"
   ]
  },
  {
   "cell_type": "markdown",
   "metadata": {},
   "source": [
    "PINNs can solve differential equations expressed, in the most general form, like:\n",
    "\n",
    "$$\n",
    "\\begin{align*}\n",
    "\\mathcal{F}(u(z); \\lambda) &= f(z) \\quad z \\text{ in } \\Omega \\\\\n",
    "\\mathcal{B}(u(z)) &= g(z) \\quad z \\text{ in } \\partial \\Omega\n",
    "\\end{align*}\n",
    "$$ \n",
    "\n",
    "defined on the domain $\\Omega \\subset \\mathbb{R}^d$ with the boundary $\\partial \\Omega$. Where\n",
    "- $z := (x_1, x_2, \\ldots, t)^\\top$ indicated the space-time coordinate vector,\n",
    "- $u$ the unknown function,\n",
    "- $\\lambda$ the parameters related to the physics,\n",
    "- $\\mathcal{F}$ the non-linear differential operator,\n",
    "- $f$ the function identifying the data of the problem,\n",
    "- $\\mathcal{B}$ the operator indicating arbitrary initial or boundary conditions, and\n",
    "- $g$ the boundary function.\n",
    "\n",
    "In the PINN methodology, $u(z)$ is computationally predicted by a NN, parametrized by a set of parameters $\\theta$, giving rise to an approximation\n",
    "$$\n",
    "\\hat{u}_\\theta(z) \\approx u(z)\n",
    "$$\n",
    "\n",
    "The optimization problem we want to deal with it is\n",
    "\n",
    "$$\n",
    "\\min_\\theta \\; \\omega_\\mathcal{F} \\mathcal{L}_\\mathcal{F}(\\theta) + \\omega_\\mathcal{B} \\mathcal{L}_\\mathcal{B}(\\theta) + \\omega_{\\text{data}} \\mathcal{L}_{\\text{data}}(\\theta)\n",
    "$$\n",
    "\n",
    "this is three weighted loss functions, each one depending on\n",
    "- $\\mathcal{L}_\\mathcal{F}$, differential equation, \n",
    "- $\\mathcal{L}_\\mathcal{B}$, boundary conditions, and\n",
    "- $\\mathcal{L}_{\\text{data}}$, (eventually) some known data.\n",
    "\n",
    "![PINNs](../images/info_pinn.png)\n",
    "\n",
    "[Source](https://link.springer.com/article/10.1007/s10915-022-01939-z)"
   ]
  },
  {
   "cell_type": "markdown",
   "metadata": {},
   "source": [
    "## Implementation: DeepXDE"
   ]
  },
  {
   "cell_type": "markdown",
   "metadata": {},
   "source": [
    "DeepXDE is a library for scientific machine learning and physics-informed learning. It support several tensor libraries as backend (TensorFlow, PyTorch, JAX, among other). \n",
    "\n",
    "One of its main features is that enables the user code to be compact, resembling closely the mathematical formulation. We don't have to worry much about the technical aspect of the code, but rather about the mathematical model.\n",
    "\n",
    "![DeepXDE](../images/pinn.webp)\n",
    "\n",
    "[Source](https://deepxde.readthedocs.io/en/latest/)"
   ]
  },
  {
   "cell_type": "markdown",
   "metadata": {},
   "source": [
    "## Example: Burguers Equation"
   ]
  },
  {
   "cell_type": "markdown",
   "metadata": {},
   "source": [
    "We will solve a Burquers equation\n",
    "\n",
    "$$\n",
    "\\frac{\\partial u}{\\partial t} + u\\frac{\\partial u}{\\partial x} = \\nu\\frac{\\partial^2u}{\\partial x^2}, \\qquad x \\in [-1, 1], \\quad t \\in [0, 1]\n",
    "$$\n",
    "with the Dirichlet boundary conditions and initial conditions\n",
    "$$\n",
    "u(-1,t)=u(1,t)=0, \\quad u(x,0) = - \\sin(\\pi x).\n",
    "$$\n",
    "\n",
    "Official documentation tutorial [here](https://deepxde.readthedocs.io/en/latest/demos/pinn_forward/burgers.html)."
   ]
  },
  {
   "cell_type": "markdown",
   "metadata": {},
   "source": [
    "__Remarks:__\n",
    "- If you are working on Google Colab you need to install `DeepXDE` and enable GPU.\n",
    "    1. `!pip install deepxde`\n",
    "    2. Go to Menu `Menu > Runtime > Change Runtime` and change hardware accelaration to __GPU__.\n",
    "- If you are working on your own machine, please follow the [install and setup documentation](https://deepxde.readthedocs.io/en/latest/user/installation.html)."
   ]
  },
  {
   "cell_type": "code",
   "execution_count": 1,
   "metadata": {},
   "outputs": [],
   "source": [
    "# Uncomment and run the next line if you are working on Google Colab \n",
    "# !pip install deepxde"
   ]
  },
  {
   "cell_type": "code",
   "execution_count": 2,
   "metadata": {},
   "outputs": [
    {
     "name": "stderr",
     "output_type": "stream",
     "text": [
      "Using backend: tensorflow.compat.v1\n",
      "\n"
     ]
    },
    {
     "name": "stdout",
     "output_type": "stream",
     "text": [
      "WARNING:tensorflow:From /home/aoguedao/mambaforge/envs/pinn/lib/python3.9/site-packages/tensorflow/python/compat/v2_compat.py:107: disable_resource_variables (from tensorflow.python.ops.variable_scope) is deprecated and will be removed in a future version.\n",
      "Instructions for updating:\n",
      "non-resource variables are not supported in the long term\n"
     ]
    },
    {
     "name": "stderr",
     "output_type": "stream",
     "text": [
      "2022-10-12 11:43:23.988287: I tensorflow/stream_executor/cuda/cuda_gpu_executor.cc:961] could not open file to read NUMA node: /sys/bus/pci/devices/0000:01:00.0/numa_node\n",
      "Your kernel may have been built without NUMA support.\n",
      "2022-10-12 11:43:24.008969: W tensorflow/stream_executor/platform/default/dso_loader.cc:64] Could not load dynamic library 'libcudnn.so.8'; dlerror: libcudnn.so.8: cannot open shared object file: No such file or directory\n",
      "2022-10-12 11:43:24.008989: W tensorflow/core/common_runtime/gpu/gpu_device.cc:1850] Cannot dlopen some GPU libraries. Please make sure the missing libraries mentioned above are installed properly if you would like to use GPU. Follow the guide at https://www.tensorflow.org/install/gpu for how to download and setup the required libraries for your platform.\n",
      "Skipping registering GPU devices...\n"
     ]
    },
    {
     "name": "stdout",
     "output_type": "stream",
     "text": [
      "WARNING:tensorflow:From /home/aoguedao/mambaforge/envs/pinn/lib/python3.9/site-packages/deepxde/nn/initializers.py:118: The name tf.keras.initializers.he_normal is deprecated. Please use tf.compat.v1.keras.initializers.he_normal instead.\n",
      "\n"
     ]
    }
   ],
   "source": [
    "import numpy as np\n",
    "import deepxde as dde\n",
    "from deepxde.backend import tf"
   ]
  },
  {
   "cell_type": "markdown",
   "metadata": {},
   "source": [
    "First of all, we need to define the domain when we will work on"
   ]
  },
  {
   "cell_type": "code",
   "execution_count": 3,
   "metadata": {},
   "outputs": [],
   "source": [
    "geom = dde.geometry.Interval(-1, 1)\n",
    "timedomain = dde.geometry.TimeDomain(0, 0.99)\n",
    "geomtime = dde.geometry.GeometryXTime(geom, timedomain)"
   ]
  },
  {
   "cell_type": "markdown",
   "metadata": {},
   "source": [
    "The PDE residual is\n",
    "\n",
    "$$\n",
    "\\mathcal{L}_{\\mathcal{F}}(\\theta) =\n",
    "\\frac{\\partial \\hat{u}_\\theta}{\\partial t} + \\hat{u}_\\theta\\frac{\\partial \\hat{u}_\\theta}{\\partial x} - \\nu\\frac{\\partial^2 \\hat{u}_\\theta}{\\partial x^2}\n",
    "$$\n",
    "\n",
    "Then we express the PDE residual in a function."
   ]
  },
  {
   "cell_type": "code",
   "execution_count": 4,
   "metadata": {},
   "outputs": [],
   "source": [
    "def pde(x, y):\n",
    "    dy_x = dde.grad.jacobian(y, x, i=0, j=0)\n",
    "    dy_t = dde.grad.jacobian(y, x, i=0, j=1)\n",
    "    dy_xx = dde.grad.hessian(y, x, i=0, j=0)\n",
    "    return dy_t + y * dy_x - 0.01 / np.pi * dy_xx"
   ]
  },
  {
   "cell_type": "markdown",
   "metadata": {},
   "source": [
    "The first argument to ``pde`` is 2-dimensional vector where the first component(``x[:,0]``) is :math:`x`-coordinate and the second componenet (``x[:,1]``) is the :math:`t`-coordinate. The second argument is the network output, i.e., the solution :math:`u(x,t)`, but here we use ``y`` as the name of the variable."
   ]
  },
  {
   "cell_type": "markdown",
   "metadata": {},
   "source": [
    "Now, let's continue with initial and boundary conditions"
   ]
  },
  {
   "cell_type": "code",
   "execution_count": 5,
   "metadata": {},
   "outputs": [],
   "source": [
    "bc = dde.icbc.DirichletBC(\n",
    "    geomtime,\n",
    "    lambda x: 0,\n",
    "    lambda _,\n",
    "    on_boundary: on_boundary\n",
    ")\n",
    "ic = dde.icbc.IC(\n",
    "    geomtime,\n",
    "    lambda x: -np.sin(np.pi * x[:, 0:1]),\n",
    "    lambda _,\n",
    "    on_initial: on_initial\n",
    ")"
   ]
  },
  {
   "cell_type": "markdown",
   "metadata": {},
   "source": [
    "Finally, we can define our PDE in a ``TimePDE`` object"
   ]
  },
  {
   "cell_type": "code",
   "execution_count": 6,
   "metadata": {},
   "outputs": [
    {
     "name": "stderr",
     "output_type": "stream",
     "text": [
      "/home/aoguedao/mambaforge/envs/pinn/lib/python3.9/site-packages/skopt/sampler/sobol.py:246: UserWarning: The balance properties of Sobol' points require n to be a power of 2. 0 points have been previously generated, then: n=0+2542=2542. \n",
      "  warnings.warn(\"The balance properties of Sobol' points require \"\n",
      "/home/aoguedao/mambaforge/envs/pinn/lib/python3.9/site-packages/skopt/sampler/sobol.py:246: UserWarning: The balance properties of Sobol' points require n to be a power of 2. 0 points have been previously generated, then: n=0+82=82. \n",
      "  warnings.warn(\"The balance properties of Sobol' points require \"\n",
      "/home/aoguedao/mambaforge/envs/pinn/lib/python3.9/site-packages/skopt/sampler/sobol.py:246: UserWarning: The balance properties of Sobol' points require n to be a power of 2. 0 points have been previously generated, then: n=0+162=162. \n",
      "  warnings.warn(\"The balance properties of Sobol' points require \"\n"
     ]
    }
   ],
   "source": [
    "data = dde.data.TimePDE(\n",
    "    geomtime,\n",
    "    pde,\n",
    "    [bc, ic],\n",
    "    num_domain=2540,\n",
    "    num_boundary=80,\n",
    "    num_initial=160\n",
    ")"
   ]
  },
  {
   "cell_type": "markdown",
   "metadata": {},
   "source": [
    "Where\n",
    "- `num_domain` is the number of training residual points sampled inside the domain,\n",
    "- `num_boundary` is the number of training points sampled on the boundary, and\n",
    "- `num_initial` is the number of residual points for the initial conditions."
   ]
  },
  {
   "cell_type": "markdown",
   "metadata": {},
   "source": [
    "Just at this point we can we choose the network. Here, we use a fully connected neural network of depth 4 (i.e., 3 hidden layers) and width 20, hyperbolic tangent as activation function and a standar way to initialize the NN called _Glorot normal_."
   ]
  },
  {
   "cell_type": "code",
   "execution_count": 7,
   "metadata": {},
   "outputs": [],
   "source": [
    "net = dde.nn.FNN([2] + [20] * 3 + [1], \"tanh\", \"Glorot normal\")"
   ]
  },
  {
   "cell_type": "markdown",
   "metadata": {},
   "source": [
    "Notice it has two neurons in the input layer, corresponding to time and 1-Dimensional space. However the output layer is just one neuron since $u(t,x) \\in \\mathbb{R}$."
   ]
  },
  {
   "cell_type": "markdown",
   "metadata": {},
   "source": [
    "Now we need to create an object with our PDE and NN. Also it is necessary to indicate the optimizer we will use."
   ]
  },
  {
   "cell_type": "code",
   "execution_count": 8,
   "metadata": {},
   "outputs": [
    {
     "name": "stderr",
     "output_type": "stream",
     "text": [
      "/home/aoguedao/mambaforge/envs/pinn/lib/python3.9/site-packages/deepxde/nn/tensorflow_compat_v1/fnn.py:103: UserWarning: `tf.layers.dense` is deprecated and will be removed in a future version. Please use `tf.keras.layers.Dense` instead.\n",
      "  return tf.layers.dense(\n"
     ]
    },
    {
     "name": "stdout",
     "output_type": "stream",
     "text": [
      "Compiling model...\n",
      "Building feed-forward neural network...\n",
      "'build' took 0.043998 s\n",
      "\n"
     ]
    },
    {
     "name": "stderr",
     "output_type": "stream",
     "text": [
      "2022-10-12 11:43:25.601584: I tensorflow/core/platform/cpu_feature_guard.cc:193] This TensorFlow binary is optimized with oneAPI Deep Neural Network Library (oneDNN) to use the following CPU instructions in performance-critical operations:  AVX2 FMA\n",
      "To enable them in other operations, rebuild TensorFlow with the appropriate compiler flags.\n"
     ]
    },
    {
     "name": "stdout",
     "output_type": "stream",
     "text": [
      "'compile' took 0.297932 s\n",
      "\n"
     ]
    }
   ],
   "source": [
    "model = dde.Model(data, net)\n",
    "model.compile(\"adam\", lr=1e-3)"
   ]
  },
  {
   "cell_type": "markdown",
   "metadata": {},
   "source": [
    "We then train the model for 15000 iterations:"
   ]
  },
  {
   "cell_type": "code",
   "execution_count": 9,
   "metadata": {},
   "outputs": [
    {
     "name": "stdout",
     "output_type": "stream",
     "text": [
      "Initializing variables...\n",
      "Training model...\n",
      "\n",
      "Step      Train loss                        Test loss                         Test metric\n",
      "0         [2.30e-01, 2.71e-01, 9.09e-01]    [2.30e-01, 2.71e-01, 9.09e-01]    []  \n"
     ]
    },
    {
     "name": "stderr",
     "output_type": "stream",
     "text": [
      "2022-10-12 11:43:25.890971: I tensorflow/compiler/mlir/mlir_graph_optimization_pass.cc:354] MLIR V1 optimization pass is not enabled\n"
     ]
    },
    {
     "name": "stdout",
     "output_type": "stream",
     "text": [
      "1000      [4.44e-02, 3.73e-03, 6.66e-02]    [4.44e-02, 3.73e-03, 6.66e-02]    []  \n",
      "2000      [3.68e-02, 1.08e-03, 5.02e-02]    [3.68e-02, 1.08e-03, 5.02e-02]    []  \n",
      "3000      [2.75e-02, 3.96e-04, 3.88e-02]    [2.75e-02, 3.96e-04, 3.88e-02]    []  \n",
      "4000      [1.78e-02, 3.89e-04, 2.52e-02]    [1.78e-02, 3.89e-04, 2.52e-02]    []  \n",
      "5000      [1.06e-02, 1.31e-04, 1.40e-02]    [1.06e-02, 1.31e-04, 1.40e-02]    []  \n",
      "6000      [8.31e-03, 7.71e-05, 9.83e-03]    [8.31e-03, 7.71e-05, 9.83e-03]    []  \n",
      "7000      [7.01e-03, 5.07e-05, 6.62e-03]    [7.01e-03, 5.07e-05, 6.62e-03]    []  \n",
      "8000      [5.56e-03, 3.19e-05, 4.45e-03]    [5.56e-03, 3.19e-05, 4.45e-03]    []  \n",
      "9000      [4.29e-03, 2.89e-05, 3.76e-03]    [4.29e-03, 2.89e-05, 3.76e-03]    []  \n",
      "10000     [3.61e-03, 2.29e-05, 3.23e-03]    [3.61e-03, 2.29e-05, 3.23e-03]    []  \n",
      "11000     [2.91e-03, 1.82e-05, 2.52e-03]    [2.91e-03, 1.82e-05, 2.52e-03]    []  \n",
      "12000     [1.84e-03, 1.52e-05, 1.49e-03]    [1.84e-03, 1.52e-05, 1.49e-03]    []  \n",
      "13000     [1.51e-03, 1.50e-05, 1.21e-03]    [1.51e-03, 1.50e-05, 1.21e-03]    []  \n",
      "14000     [1.33e-03, 1.31e-05, 1.06e-03]    [1.33e-03, 1.31e-05, 1.06e-03]    []  \n",
      "15000     [1.23e-03, 1.08e-05, 9.74e-04]    [1.23e-03, 1.08e-05, 9.74e-04]    []  \n",
      "\n",
      "Best model at step 15000:\n",
      "  train loss: 2.22e-03\n",
      "  test loss: 2.22e-03\n",
      "  test metric: []\n",
      "\n",
      "'train' took 56.506519 s\n",
      "\n"
     ]
    }
   ],
   "source": [
    "losshistory, train_state = model.train(iterations=15000)"
   ]
  },
  {
   "cell_type": "markdown",
   "metadata": {},
   "source": [
    "After we train the network using Adam, we continue to train the network using L-BFGS to achieve a smaller loss:"
   ]
  },
  {
   "cell_type": "code",
   "execution_count": 10,
   "metadata": {},
   "outputs": [
    {
     "name": "stdout",
     "output_type": "stream",
     "text": [
      "Compiling model...\n",
      "'compile' took 0.144206 s\n",
      "\n",
      "Training model...\n",
      "\n",
      "Step      Train loss                        Test loss                         Test metric\n",
      "15000     [1.23e-03, 1.08e-05, 9.74e-04]    [1.23e-03, 1.08e-05, 9.74e-04]    []  \n",
      "16000     [3.42e-04, 1.71e-06, 1.75e-04]                                          \n",
      "17000     [1.35e-04, 1.56e-06, 5.74e-05]                                          \n",
      "18000     [7.67e-05, 4.28e-07, 1.97e-05]                                          \n",
      "19000     [4.58e-05, 3.63e-07, 7.05e-06]                                          \n",
      "20000     [2.60e-05, 1.73e-07, 3.14e-06]                                          \n",
      "21000     [1.49e-05, 1.01e-07, 1.56e-06]                                          \n",
      "22000     [8.42e-06, 7.99e-08, 1.14e-06]                                          \n",
      "INFO:tensorflow:Optimization terminated with:\n",
      "  Message: CONVERGENCE: REL_REDUCTION_OF_F_<=_FACTR*EPSMCH\n",
      "  Objective function value: 0.000009\n",
      "  Number of iterations: 6699\n",
      "  Number of functions evaluations: 7242\n",
      "22242     [8.01e-06, 6.20e-08, 8.80e-07]    [8.01e-06, 6.20e-08, 8.80e-07]    []  \n",
      "\n",
      "Best model at step 22242:\n",
      "  train loss: 8.95e-06\n",
      "  test loss: 8.95e-06\n",
      "  test metric: []\n",
      "\n",
      "'train' took 37.846161 s\n",
      "\n"
     ]
    }
   ],
   "source": [
    "model.compile(\"L-BFGS-B\")\n",
    "losshistory, train_state = model.train()"
   ]
  },
  {
   "cell_type": "code",
   "execution_count": 12,
   "metadata": {},
   "outputs": [
    {
     "data": {
      "image/png": "[encoded data removed]",
      "text/plain": [
       "<Figure size 432x288 with 1 Axes>"
      ]
     },
     "metadata": {
      "needs_background": "light"
     },
     "output_type": "display_data"
    },
    {
     "data": {
      "image/png": "[encoded data removed]",
      "text/plain": [
       "<Figure size 432x288 with 1 Axes>"
      ]
     },
     "metadata": {
      "needs_background": "light"
     },
     "output_type": "display_data"
    }
   ],
   "source": [
    "dde.saveplot(losshistory, train_state, issave=False, isplot=True)"
   ]
  },
  {
   "cell_type": "markdown",
   "metadata": {},
   "source": [
    "Let's compare the predicted solution with the real solution"
   ]
  },
  {
   "cell_type": "code",
   "execution_count": 14,
   "metadata": {},
   "outputs": [
    {
     "name": "stdout",
     "output_type": "stream",
     "text": [
      "Mean residual: 0.008336143\n",
      "L2 relative error: 0.05253457073427108\n"
     ]
    }
   ],
   "source": [
    "from pathlib import Path\n",
    "\n",
    "burguers_filepath = Path().resolve().parent / \"data\" / \"Burgers.npz\"\n",
    "data = np.load(burguers_filepath)\n",
    "t, x, exact = data[\"t\"], data[\"x\"], data[\"usol\"].T\n",
    "xx, tt = np.meshgrid(x, t)\n",
    "X = np.vstack((np.ravel(xx), np.ravel(tt))).T\n",
    "y_true = exact.flatten()[:, None]\n",
    "\n",
    "y_pred = model.predict(X)\n",
    "f = model.predict(X, operator=pde)\n",
    "print(\"Mean residual:\", np.mean(np.absolute(f)))\n",
    "print(\"L2 relative error:\", dde.metrics.l2_relative_error(y_true, y_pred))"
   ]
  }
 ],
 "metadata": {
  "kernelspec": {
   "display_name": "Python 3.9.13 ('pinn')",
   "language": "python",
   "name": "python3"
  },
  "language_info": {
   "codemirror_mode": {
    "name": "ipython",
    "version": 3
   },
   "file_extension": ".py",
   "mimetype": "text/x-python",
   "name": "python",
   "nbconvert_exporter": "python",
   "pygments_lexer": "ipython3",
   "version": "3.9.13"
  },
  "orig_nbformat": 4,
  "vscode": {
   "interpreter": {
    "hash": "b495ef8c557e1213b070efa440d5756e52b9d742e01b39c369ce0fdb1e54097c"
   }
  }
 },
 "nbformat": 4,
 "nbformat_minor": 2
}
